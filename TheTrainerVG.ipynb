{
  "nbformat": 4,
  "nbformat_minor": 0,
  "metadata": {
    "colab": {
      "name": "TheTrainerVG.ipynb",
      "provenance": [],
      "collapsed_sections": [],
      "authorship_tag": "ABX9TyMz0q50j4XhGD/mX3qUfMme",
      "include_colab_link": true
    },
    "kernelspec": {
      "name": "python3",
      "display_name": "Python 3"
    }
  },
  "cells": [
    {
      "cell_type": "markdown",
      "metadata": {
        "id": "view-in-github",
        "colab_type": "text"
      },
      "source": [
        "<a href=\"https://colab.research.google.com/github/HemantTiwariGitHub/Embedding2Embedding/blob/master/TheTrainerVG.ipynb\" target=\"_parent\"><img src=\"https://colab.research.google.com/assets/colab-badge.svg\" alt=\"Open In Colab\"/></a>"
      ]
    },
    {
      "cell_type": "code",
      "metadata": {
        "id": "N4Zkr-u_YjmI",
        "colab_type": "code",
        "colab": {}
      },
      "source": [
        " try:\n",
        "    %tensorflow_version 2.x\n",
        "except:\n",
        "    pass"
      ],
      "execution_count": 0,
      "outputs": []
    },
    {
      "cell_type": "code",
      "metadata": {
        "id": "P_WNK6RqYsKM",
        "colab_type": "code",
        "outputId": "8ae765dd-c33e-4ce1-b8c8-d1a96e177a56",
        "colab": {
          "base_uri": "https://localhost:8080/",
          "height": 67
        }
      },
      "source": [
        "import tensorflow as tf\n",
        "import tensorflow_hub as hub\n",
        "from absl import logging\n",
        "import numpy as np\n",
        "from PIL import Image as PIL_Image\n",
        "from io import StringIO\n",
        "import numpy as np\n",
        "import PIL.Image as Image\n",
        "import pathlib\n",
        "\n",
        "\n",
        "print(\"\\u2022 Using TensorFlow Version:\", tf.__version__)\n",
        "print(\"\\u2022 Using TensorFlow Hub Version: \", hub.__version__)\n",
        "print('\\u2022 GPU Device Found.' if tf.test.is_gpu_available() else '\\u2022 GPU Device Not Found. Running on CPU')"
      ],
      "execution_count": 120,
      "outputs": [
        {
          "output_type": "stream",
          "text": [
            "• Using TensorFlow Version: 2.1.0-rc1\n",
            "• Using TensorFlow Hub Version:  0.7.0\n",
            "• GPU Device Not Found. Running on CPU\n"
          ],
          "name": "stdout"
        }
      ]
    },
    {
      "cell_type": "code",
      "metadata": {
        "id": "sHW8qlLGYvN0",
        "colab_type": "code",
        "outputId": "8c0bac7f-c2a8-4193-c1fa-1bed306b5202",
        "colab": {
          "base_uri": "https://localhost:8080/",
          "height": 33
        }
      },
      "source": [
        "module_url = \"https://tfhub.dev/google/universal-sentence-encoder/4\" #@param [\"https://tfhub.dev/google/universal-sentence-encoder/4\", \"https://tfhub.dev/google/universal-sentence-encoder-large/5\"]\n",
        "model = hub.load(module_url)\n",
        "print (\"module %s loaded\" % module_url)\n",
        "def embed(input):\n",
        "  return model(input)"
      ],
      "execution_count": 18,
      "outputs": [
        {
          "output_type": "stream",
          "text": [
            "module https://tfhub.dev/google/universal-sentence-encoder/4 loaded\n"
          ],
          "name": "stdout"
        }
      ]
    },
    {
      "cell_type": "code",
      "metadata": {
        "id": "pMPYI6XGLr_6",
        "colab_type": "code",
        "colab": {}
      },
      "source": [
        "MOBILENET_V2_FEATURE_EXTRACTOR_URI = \"https://tfhub.dev/google/tf2-preview/mobilenet_v2/feature_vector/4\"\n",
        "PIXEL =224\n",
        "INPUT_IMAGE_SIZE = (PIXEL, PIXEL)\n",
        "OUTPUT_FEATURE_VECTOR_SIZE = 1280\n",
        "feature_extractor = hub.KerasLayer(MOBILENET_V2_FEATURE_EXTRACTOR_URI,\n",
        "                                   input_shape=INPUT_IMAGE_SIZE + (3,), \n",
        "                                   output_shape=[OUTPUT_FEATURE_VECTOR_SIZE],\n",
        "                                   trainable=False)\n",
        "model = tf.keras.Sequential([\n",
        "        feature_extractor\n",
        "])"
      ],
      "execution_count": 0,
      "outputs": []
    },
    {
      "cell_type": "code",
      "metadata": {
        "id": "XD8H7m9oLyUI",
        "colab_type": "code",
        "colab": {}
      },
      "source": [
        "def resize_image(image):\n",
        "    #print(\"resizing:\") \n",
        "    resized_img = image.resize(INPUT_IMAGE_SIZE)\n",
        "    #resized_img.show()\n",
        "    resized_img_arr = np.array(resized_img)/255.0\n",
        "    return resized_img_arr\n",
        "\n",
        "def getImageEmbedding(regionImage, model):\n",
        "    resizedImage = resize_image(regionImage)\n",
        "    #plt.imshow(resizedImage)\n",
        "    #plt.show()\n",
        "    embedding = model.predict(resizedImage[np.newaxis, ...])\n",
        "    #print(embedding)\n",
        "    return embedding"
      ],
      "execution_count": 0,
      "outputs": []
    },
    {
      "cell_type": "code",
      "metadata": {
        "id": "FEr9kmd04KWw",
        "colab_type": "code",
        "colab": {}
      },
      "source": [
        "def readImageFromDrive(imgId, regId):\n",
        "    drivepath = '/content/drive/My Drive/'\n",
        "    imagepath = drivepath +  'Region_Image/Image_' + str(imgId)+'_Region_' + str(regId)+'.jpg'\n",
        "    imageName =  str(imgId) + '_' + str(regId)\n",
        "    imageGet = tf.keras.utils.get_file(imageName, pathlib.Path(imagepath).as_uri())\n",
        "    imageRead = Image.open(imageGet)\n",
        "    return imageRead"
      ],
      "execution_count": 0,
      "outputs": []
    },
    {
      "cell_type": "code",
      "metadata": {
        "id": "PS74PzRiMnR_",
        "colab_type": "code",
        "colab": {
          "base_uri": "https://localhost:8080/",
          "height": 418
        },
        "outputId": "4bb94054-3dea-4e71-cc77-8815dc96b1b8"
      },
      "source": [
        "#imgReg = readImageFromDrive(125,2)\n",
        "#imgReg"
      ],
      "execution_count": 125,
      "outputs": [
        {
          "output_type": "stream",
          "text": [
            "Downloading data from file:///content/drive/My%20Drive/Region_Image/Image_125_Region_2.jpg\n",
            "40960/38400 [================================] - 0s 7us/step\n"
          ],
          "name": "stdout"
        },
        {
          "output_type": "execute_result",
          "data": {
            "image/png": "[encoded data removed]",
            "text/plain": [
              "<PIL.PngImagePlugin.PngImageFile image mode=RGB size=91x368 at 0x7F1493A4EFD0>"
            ]
          },
          "metadata": {
            "tags": []
          },
          "execution_count": 125
        }
      ]
    },
    {
      "cell_type": "code",
      "metadata": {
        "id": "xqQZCuhhZQ7C",
        "colab_type": "code",
        "colab": {}
      },
      "source": [
        "def readTextFromDrive(imgId, regID):\n",
        "\n",
        "    drivepath = '/content/drive/My Drive/'\n",
        "    IembeddingPath = drivepath+'/Region_Descp'\n",
        "    descpath =  drivepath + 'Region_Descp/Image_' + str(imgId)+'_Region_Descp' + str(regID)+'.txt'\n",
        "    f = open(descpath, 'r')\n",
        "    content = f.read()\n",
        "    return content"
      ],
      "execution_count": 0,
      "outputs": []
    },
    {
      "cell_type": "code",
      "metadata": {
        "id": "p8AiEmzuIkyw",
        "colab_type": "code",
        "colab": {}
      },
      "source": [
        "def readEmbeddingFromDrive(imgId, regID):\n",
        "\n",
        "    drivepath = '/content/drive/My Drive/'\n",
        "    IembeddingPath = drivepath+'/Region_Descp'\n",
        "    descpath =  drivepath + 'Image_Embedding/Image_' + str(imgId)+'_Embedding_'+ str(regID)+'.txt'\n",
        "    f = open(descpath, 'r')\n",
        "    content = f.read()\n",
        "    return content\n"
      ],
      "execution_count": 0,
      "outputs": []
    },
    {
      "cell_type": "code",
      "metadata": {
        "id": "hFCXa140q0F5",
        "colab_type": "code",
        "colab": {}
      },
      "source": [
        "!unzip <filename>"
      ],
      "execution_count": 0,
      "outputs": []
    },
    {
      "cell_type": "code",
      "metadata": {
        "id": "EHCInZdeuJrD",
        "colab_type": "code",
        "colab": {}
      },
      "source": [
        "def getFileList(path):\n",
        "    import glob,os\n",
        "    iwd = os.getcwd()\n",
        "    os.chdir(path)\n",
        "    filelist= []\n",
        "    for file in glob.glob(\"*.txt\"):\n",
        "        filelist.append(file)\n",
        "    os.chdir(iwd)\n",
        "    return filelist"
      ],
      "execution_count": 0,
      "outputs": []
    },
    {
      "cell_type": "code",
      "metadata": {
        "id": "EUH9jttvx-Rp",
        "colab_type": "code",
        "colab": {}
      },
      "source": [
        "import re\n",
        "def getImageIDregID(str1):\n",
        "    idList = list(map(int, re.findall('\\d+',str1)))\n",
        "    return idList"
      ],
      "execution_count": 0,
      "outputs": []
    },
    {
      "cell_type": "code",
      "metadata": {
        "id": "VSvAQrBV1XQv",
        "colab_type": "code",
        "colab": {}
      },
      "source": [
        "def getAllPairs(loadpath):\n",
        "  ListOfFiles = getFileList(loadpath)\n",
        "  ListOfID = []\n",
        "  for filename in ListOfFiles:\n",
        "    #print(filename)\n",
        "    ID,REGID = getImageIDregID(filename)\n",
        "    ListOfID.append([ID,REGID])\n",
        "  return ListOfID"
      ],
      "execution_count": 0,
      "outputs": []
    },
    {
      "cell_type": "code",
      "metadata": {
        "id": "qW_n1FvF1Qpf",
        "colab_type": "code",
        "colab": {}
      },
      "source": [
        "LOADING_PATH = \"/content/Region_Descp\"\n",
        "ListOfIDs = getAllPairs(LOADING_PATH)\n",
        "\n",
        "#print(ListOfIDs)"
      ],
      "execution_count": 0,
      "outputs": []
    },
    {
      "cell_type": "code",
      "metadata": {
        "id": "LTZOuYIq2O4d",
        "colab_type": "code",
        "colab": {}
      },
      "source": [
        "def LoadBatch(baseIndex, batchSize, sourceList):\n",
        "    maxIndex = baseIndex + batchSize\n",
        "    xList = []\n",
        "    yList = []\n",
        "    while (baseIndex < maxIndex):\n",
        "        if (baseIndex%10==0):\n",
        "          print(\"reading index\" + str(baseIndex))\n",
        "        description = readTextFromDrive(sourceList[baseIndex][0], sourceList[baseIndex][1])\n",
        "        x = embed([description])\n",
        "        y = readEmbeddingFromDrive(sourceList[baseIndex][0], sourceList[baseIndex][1])\n",
        "\n",
        "        xList.append(x)\n",
        "        yList.append(y)\n",
        "        baseIndex = baseIndex + 1\n",
        "\n",
        "    return xList,yList"
      ],
      "execution_count": 0,
      "outputs": []
    },
    {
      "cell_type": "code",
      "metadata": {
        "id": "7GvPgz6g3BOt",
        "colab_type": "code",
        "colab": {
          "base_uri": "https://localhost:8080/",
          "height": 184
        },
        "outputId": "cca2cfeb-3a97-4ae8-b3c8-7daa7351f858"
      },
      "source": [
        "X,Y = LoadBatch(0, 100, ListOfIDs)"
      ],
      "execution_count": 96,
      "outputs": [
        {
          "output_type": "stream",
          "text": [
            "reading index0\n",
            "reading index10\n",
            "reading index20\n",
            "reading index30\n",
            "reading index40\n",
            "reading index50\n",
            "reading index60\n",
            "reading index70\n",
            "reading index80\n",
            "reading index90\n"
          ],
          "name": "stdout"
        }
      ]
    },
    {
      "cell_type": "code",
      "metadata": {
        "id": "TMjOJPy3A1gK",
        "colab_type": "code",
        "colab": {
          "base_uri": "https://localhost:8080/",
          "height": 53
        },
        "outputId": "39d82256-1dcd-4f3f-aa18-e573e2f7107d"
      },
      "source": [
        "print(tf.convert_to_tensor(Y[1]))"
      ],
      "execution_count": 104,
      "outputs": [
        {
          "output_type": "stream",
          "text": [
            "tf.Tensor(b'[[1.32233644e+00 1.45155460e-01 0.00000000e+00 0.00000000e+00\\n  0.00000000e+00 7.37679750e-02 0.00000000e+00 4.80522573e-01\\n  6.26416862e-01 0.00000000e+00 0.00000000e+00 6.15130901e-01\\n  9.62062180e-02 2.88364202e-01 3.58558679e+00 3.96230668e-01\\n  0.00000000e+00 5.20413756e-01 1.46514148e-01 1.90604886e-03\\n  0.00000000e+00 0.00000000e+00 1.49549949e+00 2.04533651e-01\\n  3.90604675e-01 0.00000000e+00 0.00000000e+00 4.96787024e+00\\n  1.45400167e-02 1.85327065e+00 0.00000000e+00 0.00000000e+00\\n  0.00000000e+00 0.00000000e+00 0.00000000e+00 0.00000000e+00\\n  0.00000000e+00 0.00000000e+00 1.46235955e+00 0.00000000e+00\\n  3.99642229e+00 0.00000000e+00 0.00000000e+00 0.00000000e+00\\n  7.55478144e-01 0.00000000e+00 0.00000000e+00 1.32016644e-01\\n  5.70940733e-01 0.00000000e+00 0.00000000e+00 0.00000000e+00\\n  0.00000000e+00 6.61081029e-03 0.00000000e+00 1.99007932e-02\\n  9.99890715e-02 0.00000000e+00 0.00000000e+00 7.15155542e-01\\n  2.20424905e-01 1.21228129e-01 1.03333462e-02 3.45871015e-03\\n  4.87048179e-01 0.00000000e+00 0.00000000e+00 0.00000000e+00\\n  1.50958091e-01 0.00000000e+00 0.00000000e+00 0.00000000e+00\\n  7.18349874e-01 6.10996068e-01 0.00000000e+00 0.00000000e+00\\n  2.25103781e-01 0.00000000e+00 1.54527232e-01 0.00000000e+00\\n  1.65706679e-01 0.00000000e+00 0.00000000e+00 2.47280315e-01\\n  0.00000000e+00 0.00000000e+00 0.00000000e+00 0.00000000e+00\\n  0.00000000e+00 0.00000000e+00 0.00000000e+00 0.00000000e+00\\n  0.00000000e+00 2.71970183e-01 4.28437983e-04 1.02056336e+00\\n  0.00000000e+00 2.20525384e+00 1.18868804e+00 0.00000000e+00\\n  0.00000000e+00 0.00000000e+00 0.00000000e+00 0.00000000e+00\\n  3.79559726e-01 0.00000000e+00 5.91118038e-01 2.01429915e+00\\n  1.56820965e+00 0.00000000e+00 0.00000000e+00 1.32035148e+00\\n  0.00000000e+00 0.00000000e+00 0.00000000e+00 4.49439794e-01\\n  5.43354893e+00 1.05553143e-01 0.00000000e+00 0.00000000e+00\\n  6.20274879e-02 0.00000000e+00 0.00000000e+00 0.00000000e+00\\n  0.00000000e+00 0.00000000e+00 1.41579419e-01 0.00000000e+00\\n  5.00327796e-02 2.52642202e+00 1.18626821e+00 0.00000000e+00\\n  8.58194530e-01 0.00000000e+00 0.00000000e+00 1.30132046e-02\\n  7.85965845e-02 3.19362521e+00 8.39209855e-02 2.49523163e-01\\n  6.78943455e-01 2.86601305e-01 0.00000000e+00 0.00000000e+00\\n  0.00000000e+00 1.18477762e-01 3.99158932e-02 1.56431794e+00\\n  2.66082752e-02 7.78352082e-01 0.00000000e+00 2.45715529e-01\\n  0.00000000e+00 0.00000000e+00 1.98437691e-01 5.97199738e-01\\n  2.43116438e-01 1.17087519e+00 2.07473174e-01 9.22979057e-01\\n  0.00000000e+00 0.00000000e+00 0.00000000e+00 2.55806589e+00\\n  0.00000000e+00 0.00000000e+00 7.15901732e-01 0.00000000e+00\\n  8.69718660e-03 0.00000000e+00 1.26472250e-01 0.00000000e+00\\n  2.97451943e-01 0.00000000e+00 3.67334247e-01 0.00000000e+00\\n  4.94558224e-03 0.00000000e+00 3.98116559e-01 0.00000000e+00\\n  4.84605759e-01 0.00000000e+00 0.00000000e+00 2.66890496e-01\\n  0.00000000e+00 0.00000000e+00 0.00000000e+00 0.00000000e+00\\n  1.08720645e-01 3.55716616e-01 7.12369159e-02 0.00000000e+00\\n  0.00000000e+00 2.38480076e-01 1.43880761e+00 1.85165092e-01\\n  8.62116456e-01 4.12061423e-01 0.00000000e+00 0.00000000e+00\\n  0.00000000e+00 1.03276959e-02 0.00000000e+00 0.00000000e+00\\n  0.00000000e+00 5.93483262e-02 4.33207452e-01 8.57971370e-01\\n  0.00000000e+00 3.35992038e-01 0.00000000e+00 2.10336685e-01\\n  0.00000000e+00 3.39767635e-02 0.00000000e+00 9.25920606e-02\\n  9.06766057e-02 2.11024791e-01 0.00000000e+00 4.33661747e+00\\n  8.00960660e-02 0.00000000e+00 0.00000000e+00 0.00000000e+00\\n  1.58401672e-02 0.00000000e+00 3.29826504e-01 0.00000000e+00\\n  0.00000000e+00 3.02617103e-01 3.69638830e-01 0.00000000e+00\\n  2.37100101e+00 8.71813819e-02 3.61220449e-01 9.47181061e-02\\n  1.32037246e+00 3.77196446e-02 0.00000000e+00 0.00000000e+00\\n  0.00000000e+00 1.19400665e-01 5.99685349e-02 0.00000000e+00\\n  0.00000000e+00 0.00000000e+00 0.00000000e+00 0.00000000e+00\\n  8.71072888e-01 1.92715394e+00 0.00000000e+00 2.18100280e-01\\n  0.00000000e+00 1.23715758e+00 2.39797100e-01 4.78414655e-01\\n  2.65148669e-01 0.00000000e+00 0.00000000e+00 1.73451245e+00\\n  2.05032617e-01 3.18921375e-04 1.69839233e-01 0.00000000e+00\\n  0.00000000e+00 0.00000000e+00 2.17217088e-01 0.00000000e+00\\n  1.24715579e+00 0.00000000e+00 0.00000000e+00 0.00000000e+00\\n  0.00000000e+00 0.00000000e+00 0.00000000e+00 1.08003247e+00\\n  3.28363515e-02 3.75331998e+00 0.00000000e+00 0.00000000e+00\\n  0.00000000e+00 1.40236542e-02 0.00000000e+00 4.18017983e-01\\n  2.89881253e+00 0.00000000e+00 1.17698669e-01 5.19382238e-01\\n  0.00000000e+00 0.00000000e+00 0.00000000e+00 0.00000000e+00\\n  0.00000000e+00 2.24102706e-01 1.75574756e+00 0.00000000e+00\\n  8.61690380e-03 4.01390567e-02 2.04570770e-01 2.13424210e-02\\n  0.00000000e+00 1.63063693e+00 8.74031335e-02 1.46387696e+00\\n  0.00000000e+00 0.00000000e+00 0.00000000e+00 0.00000000e+00\\n  8.25270832e-01 4.40041050e-02 1.73100233e-02 0.00000000e+00\\n  2.82330662e-01 7.26790354e-02 0.00000000e+00 7.39250720e-01\\n  1.22921571e-01 6.41849995e-01 0.00000000e+00 1.31270099e+00\\n  3.76208127e-01 3.33445907e-01 8.68318528e-02 0.00000000e+00\\n  0.00000000e+00 0.00000000e+00 0.00000000e+00 0.00000000e+00\\n  3.54299402e+00 5.10470092e-01 7.75441945e-01 5.02079651e-02\\n  2.27043137e-01 3.93363973e-03 5.76723926e-02 0.00000000e+00\\n  1.78405210e-01 0.00000000e+00 3.53531897e-01 5.58792055e-02\\n  2.26711369e+00 0.00000000e+00 4.96050119e-01 6.05919398e-03\\n  0.00000000e+00 3.95847149e-02 1.29698765e+00 9.68748152e-01\\n  0.00000000e+00 3.25032510e-02 1.01706111e+00 2.40435645e-01\\n  3.09226196e-02 5.63604474e-01 0.00000000e+00 4.39950526e-01\\n  9.89769027e-02 4.65119928e-01 7.14175701e-01 0.00000000e+00\\n  8.52834806e-02 0.00000000e+00 2.03890920e+00 0.00000000e+00\\n  2.91979406e-03 0.00000000e+00 1.49727851e-01 0.00000000e+00\\n  0.00000000e+00 0.00000000e+00 0.00000000e+00 0.00000000e+00\\n  1.06230997e-01 4.98209931e-02 0.00000000e+00 0.00000000e+00\\n  0.00000000e+00 3.59435534e+00 1.47509086e+00 3.24136131e-02\\n  0.00000000e+00 0.00000000e+00 0.00000000e+00 0.00000000e+00\\n  3.01111136e-02 1.30790919e-01 3.57882259e-03 0.00000000e+00\\n  0.00000000e+00 0.00000000e+00 0.00000000e+00 0.00000000e+00\\n  4.33052778e-01 0.00000000e+00 0.00000000e+00 0.00000000e+00\\n  1.61998883e-01 0.00000000e+00 0.00000000e+00 3.02534968e-01\\n  2.00125337e-01 5.08160651e-01 5.74335575e-01 2.49435127e-01\\n  2.06417993e-01 1.24770927e+00 0.00000000e+00 2.10496321e-01\\n  0.00000000e+00 1.65851507e-02 0.00000000e+00 6.83177188e-02\\n  0.00000000e+00 0.00000000e+00 2.22858262e+00 0.00000000e+00\\n  0.00000000e+00 8.03470314e-02 1.00021390e-02 0.00000000e+00\\n  0.00000000e+00 8.48510414e-02 0.00000000e+00 9.47678089e-03\\n  0.00000000e+00 0.00000000e+00 0.00000000e+00 0.00000000e+00\\n  0.00000000e+00 0.00000000e+00 2.21323419e+00 0.00000000e+00\\n  2.49319509e-01 1.56872499e+00 1.31563812e-01 5.62574118e-02\\n  1.14204431e+00 1.11070007e-01 2.84089223e-02 0.00000000e+00\\n  0.00000000e+00 1.21713936e+00 1.39142023e-02 0.00000000e+00\\n  0.00000000e+00 4.55892039e-03 0.00000000e+00 0.00000000e+00\\n  1.12689234e-01 0.00000000e+00 0.00000000e+00 5.56782067e-01\\n  4.71703894e-02 2.18714058e-01 7.37476826e-01 2.71759659e-01\\n  0.00000000e+00 0.00000000e+00 5.49814887e-02 4.67351961e+00\\n  0.00000000e+00 0.00000000e+00 0.00000000e+00 2.76714969e+00\\n  0.00000000e+00 1.45734772e-01 0.00000000e+00 0.00000000e+00\\n  0.00000000e+00 1.15161157e+00 1.18444197e-01 0.00000000e+00\\n  8.58070672e-01 0.00000000e+00 0.00000000e+00 4.50789392e-01\\n  0.00000000e+00 6.89366758e-02 0.00000000e+00 2.10565776e-02\\n  0.00000000e+00 0.00000000e+00 0.00000000e+00 0.00000000e+00\\n  0.00000000e+00 1.94594599e-02 0.00000000e+00 5.79547510e-02\\n  1.05361569e+00 0.00000000e+00 2.01702416e-01 1.78773887e-02\\n  0.00000000e+00 2.42542159e-02 1.15601032e-03 0.00000000e+00\\n  0.00000000e+00 0.00000000e+00 2.67021447e-01 0.00000000e+00\\n  1.28306064e-03 0.00000000e+00 0.00000000e+00 0.00000000e+00\\n  1.56276524e-01 6.59202337e-02 0.00000000e+00 0.00000000e+00\\n  4.68159802e-02 2.04354182e-01 0.00000000e+00 4.04547334e-01\\n  1.00768626e+00 1.10123456e+00 0.00000000e+00 0.00000000e+00\\n  0.00000000e+00 1.50590107e-01 0.00000000e+00 0.00000000e+00\\n  7.43236765e-03 0.00000000e+00 6.45790175e-02 0.00000000e+00\\n  8.83554816e-02 0.00000000e+00 3.35095310e+00 1.33214578e-01\\n  0.00000000e+00 0.00000000e+00 5.75013697e-01 0.00000000e+00\\n  4.41857278e-02 0.00000000e+00 5.48831344e-01 2.96089458e+00\\n  0.00000000e+00 0.00000000e+00 6.76233411e-01 4.93362516e-01\\n  0.00000000e+00 0.00000000e+00 2.67519616e-02 0.00000000e+00\\n  2.61169028e+00 1.85740399e+00 0.00000000e+00 3.48704979e-02\\n  0.00000000e+00 2.07579780e+00 0.00000000e+00 0.00000000e+00\\n  7.08520645e-03 6.41006708e-01 0.00000000e+00 3.63069400e-02\\n  0.00000000e+00 1.67847228e+00 0.00000000e+00 0.00000000e+00\\n  0.00000000e+00 0.00000000e+00 1.09636593e+00 0.00000000e+00\\n  2.00433046e-01 7.52889693e-01 5.29795766e-01 0.00000000e+00\\n  4.61311847e-01 4.90265667e-01 1.06874895e+00 2.72879690e-01\\n  0.00000000e+00 0.00000000e+00 3.94947715e-02 0.00000000e+00\\n  0.00000000e+00 1.10086109e-02 0.00000000e+00 3.99006531e-02\\n  2.71600533e+00 1.29160547e+00 6.20456457e-01 0.00000000e+00\\n  9.37246084e-02 0.00000000e+00 1.61871761e-01 1.64672172e+00\\n  4.73134667e-02 0.00000000e+00 3.44237573e-02 0.00000000e+00\\n  0.00000000e+00 5.15641403e+00 0.00000000e+00 1.28332269e-03\\n  1.62467565e-02 0.00000000e+00 5.18593527e-02 1.57913804e+00\\n  1.10133481e+00 2.31860012e-01 0.00000000e+00 3.78576480e-02\\n  0.00000000e+00 1.70051381e-01 1.23209703e+00 0.00000000e+00\\n  1.07853420e-01 0.00000000e+00 1.35490892e-03 0.00000000e+00\\n  4.06876236e-01 2.32537910e-02 0.00000000e+00 3.00152507e-03\\n  1.61023998e+00 3.22417706e-01 0.00000000e+00 0.00000000e+00\\n  0.00000000e+00 0.00000000e+00 1.76704037e+00 2.07454371e+00\\n  3.19669628e+00 1.32520866e+00 4.48582232e-01 1.28912556e+00\\n  0.00000000e+00 1.93238124e-01 8.30467697e-03 0.00000000e+00\\n  0.00000000e+00 3.66058946e+00 7.87999809e-01 0.00000000e+00\\n  3.49433362e-01 0.00000000e+00 1.26088428e+00 0.00000000e+00\\n  0.00000000e+00 2.80580878e-01 6.44502863e-02 0.00000000e+00\\n  6.00787578e-03 2.73034722e-02 0.00000000e+00 0.00000000e+00\\n  1.41126476e-02 0.00000000e+00 0.00000000e+00 8.95000994e-02\\n  9.42765921e-03 7.99167097e-01 0.00000000e+00 0.00000000e+00\\n  9.60887000e-02 1.37322359e-02 0.00000000e+00 0.00000000e+00\\n  0.00000000e+00 0.00000000e+00 0.00000000e+00 5.56961894e-01\\n  0.00000000e+00 0.00000000e+00 3.57880257e-02 0.00000000e+00\\n  3.64004761e-01 6.50876045e-01 0.00000000e+00 0.00000000e+00\\n  6.14840865e-01 8.39802846e-02 0.00000000e+00 1.67778826e+00\\n  9.46901441e-02 0.00000000e+00 1.25451827e+00 1.12173505e-01\\n  0.00000000e+00 2.15200614e-03 2.08213385e-02 1.91005063e+00\\n  0.00000000e+00 0.00000000e+00 0.00000000e+00 5.46243042e-02\\n  1.16403237e-01 0.00000000e+00 1.15973391e-02 3.60419691e-01\\n  0.00000000e+00 2.67340112e-02 0.00000000e+00 1.56758487e-01\\n  0.00000000e+00 1.72070909e+00 1.00014150e+00 0.00000000e+00\\n  0.00000000e+00 3.63342240e-02 0.00000000e+00 4.19810963e+00\\n  0.00000000e+00 0.00000000e+00 9.45456773e-02 3.74980867e-02\\n  0.00000000e+00 4.03928488e-01 0.00000000e+00 1.16850890e-01\\n  0.00000000e+00 9.36780334e-01 0.00000000e+00 2.10208583e+00\\n  0.00000000e+00 1.59562576e+00 0.00000000e+00 0.00000000e+00\\n  0.00000000e+00 3.42364833e-02 8.72058868e-02 1.14982963e-01\\n  1.08506881e-01 0.00000000e+00 0.00000000e+00 0.00000000e+00\\n  2.48583198e+00 0.00000000e+00 1.33917287e-01 0.00000000e+00\\n  5.25371032e-03 0.00000000e+00 5.76379299e-01 3.24493885e-01\\n  0.00000000e+00 3.06345616e-02 0.00000000e+00 1.02388836e-01\\n  0.00000000e+00 6.26716167e-02 6.17537461e-03 5.23013808e-02\\n  0.00000000e+00 1.80847764e-01 5.82383908e-02 8.18835378e-01\\n  5.81538975e-01 4.21705879e-02 1.24711841e-02 0.00000000e+00\\n  1.51068255e-01 1.12602273e-02 2.52571195e-01 0.00000000e+00\\n  5.36452055e-01 0.00000000e+00 2.34874338e-01 0.00000000e+00\\n  0.00000000e+00 3.80919635e-01 2.36961961e-01 0.00000000e+00\\n  0.00000000e+00 5.06831110e-01 0.00000000e+00 2.51777587e-03\\n  0.00000000e+00 0.00000000e+00 0.00000000e+00 2.18794961e-02\\n  4.58494335e-01 3.23743559e-02 0.00000000e+00 0.00000000e+00\\n  6.49127364e-01 0.00000000e+00 0.00000000e+00 1.30198225e-02\\n  0.00000000e+00 0.00000000e+00 0.00000000e+00 0.00000000e+00\\n  0.00000000e+00 2.26025462e-01 0.00000000e+00 7.28341997e-01\\n  2.06461083e-02 3.58805135e-02 0.00000000e+00 0.00000000e+00\\n  0.00000000e+00 0.00000000e+00 8.25595379e-01 0.00000000e+00\\n  0.00000000e+00 0.00000000e+00 0.00000000e+00 3.89782600e-02\\n  0.00000000e+00 1.58906505e-01 0.00000000e+00 0.00000000e+00\\n  3.70051908e+00 3.59942717e-03 0.00000000e+00 7.16375947e-01\\n  0.00000000e+00 3.23431998e-01 6.15673125e-01 0.00000000e+00\\n  2.60356516e-01 6.66999817e-02 0.00000000e+00 2.24344097e-02\\n  5.32962270e-02 9.65793058e-03 0.00000000e+00 4.44683246e-03\\n  2.75114745e-01 1.60289562e+00 4.93584247e-03 0.00000000e+00\\n  0.00000000e+00 7.57594965e-03 2.41303062e+00 0.00000000e+00\\n  1.70220077e-01 2.20692903e-02 6.10447563e-02 0.00000000e+00\\n  9.54508502e-03 5.40166676e-01 0.00000000e+00 0.00000000e+00\\n  9.11560133e-02 0.00000000e+00 0.00000000e+00 0.00000000e+00\\n  0.00000000e+00 0.00000000e+00 0.00000000e+00 0.00000000e+00\\n  1.30206597e+00 1.71540920e-02 2.25023818e+00 4.45421971e-02\\n  3.51032913e-02 0.00000000e+00 3.73795211e-01 9.77006480e-02\\n  8.47501576e-01 5.56935742e-02 0.00000000e+00 0.00000000e+00\\n  0.00000000e+00 0.00000000e+00 2.72382706e-01 2.52051204e-01\\n  2.04852685e-01 7.72203326e-01 1.86406374e-01 0.00000000e+00\\n  2.27736115e+00 0.00000000e+00 0.00000000e+00 1.32138981e-02\\n  2.66132146e-01 5.56070022e-02 1.68614119e-01 1.51954293e-01\\n  3.06957674e+00 0.00000000e+00 0.00000000e+00 0.00000000e+00\\n  9.18301225e-01 0.00000000e+00 0.00000000e+00 6.39992487e-03\\n  0.00000000e+00 0.00000000e+00 0.00000000e+00 4.41844314e-01\\n  7.54145980e-02 0.00000000e+00 0.00000000e+00 0.00000000e+00\\n  7.59642869e-02 5.52127371e-03 1.81887731e-01 0.00000000e+00\\n  3.86999100e-02 0.00000000e+00 0.00000000e+00 2.09342027e+00\\n  3.45514387e-01 7.23057747e-01 0.00000000e+00 1.63503182e+00\\n  5.33316284e-03 0.00000000e+00 1.65670679e-03 0.00000000e+00\\n  0.00000000e+00 0.00000000e+00 0.00000000e+00 0.00000000e+00\\n  5.26958048e-01 0.00000000e+00 0.00000000e+00 0.00000000e+00\\n  3.75251733e-02 0.00000000e+00 1.22442031e+00 2.85847671e-02\\n  4.49032426e-01 0.00000000e+00 0.00000000e+00 0.00000000e+00\\n  0.00000000e+00 6.24350607e-01 3.03103805e-01 0.00000000e+00\\n  8.14802945e-02 3.35660195e+00 6.74655974e-01 1.14785373e+00\\n  1.53975618e+00 0.00000000e+00 9.44144502e-02 0.00000000e+00\\n  1.33070135e+00 6.82228148e-01 2.60017607e-02 0.00000000e+00\\n  6.99773850e-03 1.42907724e-01 3.15342426e-01 0.00000000e+00\\n  1.32051870e-01 0.00000000e+00 0.00000000e+00 1.95488304e-01\\n  2.85544023e-02 2.67542410e+00 2.91944714e-03 0.00000000e+00\\n  0.00000000e+00 1.68884575e-01 2.04962015e+00 0.00000000e+00\\n  0.00000000e+00 1.13119674e+00 0.00000000e+00 2.48622799e+00\\n  4.26493794e-01 4.50217985e-02 3.30005789e+00 0.00000000e+00\\n  3.59233439e-01 0.00000000e+00 0.00000000e+00 0.00000000e+00\\n  0.00000000e+00 0.00000000e+00 1.77486211e-01 1.18382633e-01\\n  0.00000000e+00 2.68266106e+00 1.86269677e+00 0.00000000e+00\\n  1.26329502e-02 5.14891790e-03 0.00000000e+00 0.00000000e+00\\n  4.28299248e-01 1.17956279e-02 1.43430877e+00 0.00000000e+00\\n  2.12848559e-01 1.77904829e-01 1.22829509e+00 0.00000000e+00\\n  0.00000000e+00 1.22662060e-01 1.03463650e-01 1.58318922e-01\\n  0.00000000e+00 4.01669830e-01 1.85614872e+00 8.69654715e-02\\n  0.00000000e+00 0.00000000e+00 0.00000000e+00 2.57772297e-01\\n  0.00000000e+00 5.64183891e-02 4.41691838e-02 0.00000000e+00\\n  0.00000000e+00 0.00000000e+00 0.00000000e+00 1.04781985e+00\\n  4.14224807e-04 6.17734797e-04 0.00000000e+00 1.75659704e+00\\n  0.00000000e+00 0.00000000e+00 2.94461101e-01 6.32923067e-01\\n  0.00000000e+00 1.37986481e-01 5.74727170e-02 0.00000000e+00\\n  1.85955595e-02 0.00000000e+00 0.00000000e+00 7.69667551e-02\\n  5.61335802e-01 0.00000000e+00 2.25673839e-02 0.00000000e+00\\n  0.00000000e+00 0.00000000e+00 4.58381295e-01 2.16070318e+00\\n  0.00000000e+00 8.00722837e-01 0.00000000e+00 2.00707817e+00\\n  7.46761143e-01 5.85289717e-01 2.02630069e-02 0.00000000e+00\\n  0.00000000e+00 1.97734088e-02 1.01165152e+00 0.00000000e+00\\n  0.00000000e+00 0.00000000e+00 1.49372622e-01 1.12148881e-01\\n  0.00000000e+00 0.00000000e+00 1.36102811e-01 0.00000000e+00\\n  0.00000000e+00 2.88253605e-01 0.00000000e+00 0.00000000e+00\\n  0.00000000e+00 0.00000000e+00 8.68167162e-01 0.00000000e+00\\n  8.14195871e-02 2.79204603e-02 2.81287339e-02 6.22520968e-02\\n  7.85681486e-01 9.36486349e-02 0.00000000e+00 9.38489318e-01\\n  5.56802690e-01 1.28437309e-02 0.00000000e+00 2.01754421e-02\\n  0.00000000e+00 0.00000000e+00 5.08548796e-01 0.00000000e+00\\n  0.00000000e+00 1.29347706e+00 2.17758678e-02 0.00000000e+00\\n  3.33190383e-03 1.05454302e+00 0.00000000e+00 0.00000000e+00\\n  0.00000000e+00 6.96028257e-03 0.00000000e+00 0.00000000e+00\\n  1.65188277e+00 7.93315247e-02 1.15283346e+00 3.54772322e-02\\n  2.35264093e-01 0.00000000e+00 1.21528006e+00 0.00000000e+00\\n  1.36056554e+00 3.38108516e+00 2.24236369e+00 6.61621273e-01\\n  1.63854342e-02 0.00000000e+00 0.00000000e+00 1.22986197e-01\\n  1.35865891e+00 8.71142864e-01 0.00000000e+00 1.69929719e+00\\n  2.66443563e+00 0.00000000e+00 2.24040225e-01 1.63123023e-03\\n  0.00000000e+00 2.75214100e+00 5.88298321e-01 0.00000000e+00\\n  1.83308095e-01 0.00000000e+00 0.00000000e+00 1.19292307e+00\\n  0.00000000e+00 0.00000000e+00 0.00000000e+00 0.00000000e+00\\n  4.96364474e-01 0.00000000e+00 1.02150915e-02 6.77599609e-02\\n  0.00000000e+00 3.18992257e-01 0.00000000e+00 0.00000000e+00\\n  2.85731219e-02 0.00000000e+00 0.00000000e+00 8.08737427e-03\\n  0.00000000e+00 1.64608824e+00 2.18180597e-01 0.00000000e+00\\n  4.52002510e-02 2.20233631e+00 0.00000000e+00 0.00000000e+00\\n  2.26106886e-02 1.85973700e-02 0.00000000e+00 0.00000000e+00\\n  0.00000000e+00 2.74616718e-01 8.93984064e-02 0.00000000e+00\\n  0.00000000e+00 7.12827384e-01 0.00000000e+00 0.00000000e+00\\n  1.88406691e-01 7.17368245e-01 0.00000000e+00 9.67234075e-02\\n  0.00000000e+00 2.51330346e-01 2.44922966e-01 2.98433959e-01\\n  6.90774545e-02 0.00000000e+00 1.24408352e+00 0.00000000e+00\\n  2.29053758e-02 0.00000000e+00 0.00000000e+00 1.07825948e-02\\n  1.01118665e-02 9.48476195e-01 7.37524638e-03 0.00000000e+00\\n  0.00000000e+00 0.00000000e+00 6.79101348e-02 0.00000000e+00\\n  5.62834321e-03 0.00000000e+00 0.00000000e+00 0.00000000e+00\\n  0.00000000e+00 3.24983507e-01 1.57666099e+00 0.00000000e+00\\n  3.83091837e-01 3.60797958e-06 0.00000000e+00 0.00000000e+00\\n  0.00000000e+00 0.00000000e+00 0.00000000e+00 1.68000376e+00\\n  0.00000000e+00 4.60024029e-01 1.51018536e+00 0.00000000e+00\\n  0.00000000e+00 1.61953539e-01 0.00000000e+00 9.04251337e-02\\n  0.00000000e+00 2.14803871e-02 3.20649594e-02 2.53038704e-01\\n  7.08535314e-02 1.11247273e-02 0.00000000e+00 1.28531754e-01\\n  1.06833649e+00 8.91679585e-01 0.00000000e+00 2.61875898e-01\\n  1.52255986e-02 8.96190107e-02 7.10186541e-01 0.00000000e+00\\n  0.00000000e+00 4.98912692e-01 0.00000000e+00 7.25423872e-01\\n  1.38139224e+00 4.49752696e-02 0.00000000e+00 8.57714534e-01\\n  4.16748337e-02 3.31703067e-01 1.31364048e-01 0.00000000e+00\\n  0.00000000e+00 1.29119408e+00 0.00000000e+00 3.28626096e-01\\n  0.00000000e+00 0.00000000e+00 0.00000000e+00 2.15822145e-01\\n  0.00000000e+00 3.62050676e+00 6.89962432e-02 1.23876818e-01\\n  1.47029042e-01 0.00000000e+00 0.00000000e+00 2.91471332e-01\\n  0.00000000e+00 1.10038161e+00 1.29116201e+00 0.00000000e+00\\n  0.00000000e+00 0.00000000e+00 2.76480436e-01 0.00000000e+00\\n  1.81750342e-01 0.00000000e+00 0.00000000e+00 6.82782382e-02\\n  8.61931890e-02 9.51811016e-01 2.32171702e+00 1.37341321e-01\\n  0.00000000e+00 3.64676677e-02 0.00000000e+00 0.00000000e+00\\n  4.61558960e-02 6.26284047e-04 0.00000000e+00 2.76842535e-01\\n  7.91326642e-01 0.00000000e+00 7.67274678e-01 5.89778610e-02\\n  0.00000000e+00 0.00000000e+00 0.00000000e+00 0.00000000e+00\\n  0.00000000e+00 0.00000000e+00 0.00000000e+00 4.11334097e-01]]', shape=(), dtype=string)\n"
          ],
          "name": "stdout"
        }
      ]
    },
    {
      "cell_type": "code",
      "metadata": {
        "id": "ur2msHHcDcOX",
        "colab_type": "code",
        "colab": {}
      },
      "source": [
        "from __future__ import absolute_import, division, print_function, unicode_literals\n",
        "\n",
        "import tensorflow as tf\n",
        "\n",
        "tf.keras.backend.clear_session() "
      ],
      "execution_count": 0,
      "outputs": []
    },
    {
      "cell_type": "code",
      "metadata": {
        "id": "0osg2iNCKV7x",
        "colab_type": "code",
        "colab": {}
      },
      "source": [
        "print()"
      ],
      "execution_count": 0,
      "outputs": []
    }
  ]
}