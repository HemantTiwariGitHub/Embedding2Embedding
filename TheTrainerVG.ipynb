{
  "nbformat": 4,
  "nbformat_minor": 0,
  "metadata": {
    "colab": {
      "name": "TheTrainerVG.ipynb",
      "provenance": [],
      "collapsed_sections": [],
      "authorship_tag": "ABX9TyPp1gkPz+mrM33GNAsa1Blx",
      "include_colab_link": true
    },
    "kernelspec": {
      "name": "python3",
      "display_name": "Python 3"
    }
  },
  "cells": [
    {
      "cell_type": "markdown",
      "metadata": {
        "id": "view-in-github",
        "colab_type": "text"
      },
      "source": [
        "<a href=\"https://colab.research.google.com/github/HemantTiwariGitHub/Embedding2Embedding/blob/master/TheTrainerVG.ipynb\" target=\"_parent\"><img src=\"https://colab.research.google.com/assets/colab-badge.svg\" alt=\"Open In Colab\"/></a>"
      ]
    },
    {
      "cell_type": "code",
      "metadata": {
        "id": "N4Zkr-u_YjmI",
        "colab_type": "code",
        "colab": {
          "base_uri": "https://localhost:8080/",
          "height": 33
        },
        "outputId": "d761daa1-644a-4c1a-d25c-c616a2b67c53"
      },
      "source": [
        " try:\n",
        "    %tensorflow_version 2.x\n",
        "except:\n",
        "    pass"
      ],
      "execution_count": 1,
      "outputs": [
        {
          "output_type": "stream",
          "text": [
            "TensorFlow 2.x selected.\n"
          ],
          "name": "stdout"
        }
      ]
    },
    {
      "cell_type": "code",
      "metadata": {
        "id": "P_WNK6RqYsKM",
        "colab_type": "code",
        "outputId": "f7bcd50d-3b43-417a-ed2e-f94e629958fd",
        "colab": {
          "base_uri": "https://localhost:8080/",
          "height": 137
        }
      },
      "source": [
        "import tensorflow as tf\n",
        "import tensorflow_hub as hub\n",
        "from absl import logging\n",
        "import numpy as np\n",
        "from PIL import Image as PIL_Image\n",
        "from io import StringIO\n",
        "import numpy as np\n",
        "import PIL.Image as Image\n",
        "import pathlib\n",
        "\n",
        "\n",
        "print(\"\\u2022 Using TensorFlow Version:\", tf.__version__)\n",
        "print(\"\\u2022 Using TensorFlow Hub Version: \", hub.__version__)\n",
        "print('\\u2022 GPU Device Found.' if tf.test.is_gpu_available() else '\\u2022 GPU Device Not Found. Running on CPU')"
      ],
      "execution_count": 2,
      "outputs": [
        {
          "output_type": "stream",
          "text": [
            "• Using TensorFlow Version: 2.1.0-rc1\n",
            "• Using TensorFlow Hub Version:  0.7.0\n",
            "WARNING:tensorflow:From <ipython-input-2-c0b0f2c84255>:14: is_gpu_available (from tensorflow.python.framework.test_util) is deprecated and will be removed in a future version.\n",
            "Instructions for updating:\n",
            "Use `tf.config.list_physical_devices('GPU')` instead.\n",
            "• GPU Device Not Found. Running on CPU\n"
          ],
          "name": "stdout"
        }
      ]
    },
    {
      "cell_type": "code",
      "metadata": {
        "id": "sHW8qlLGYvN0",
        "colab_type": "code",
        "outputId": "9f057ed7-a2b8-4957-ae07-6147a2995c70",
        "colab": {
          "base_uri": "https://localhost:8080/",
          "height": 33
        }
      },
      "source": [
        "module_url = \"https://tfhub.dev/google/universal-sentence-encoder/4\" #@param [\"https://tfhub.dev/google/universal-sentence-encoder/4\", \"https://tfhub.dev/google/universal-sentence-encoder-large/5\"]\n",
        "model = hub.load(module_url)\n",
        "print (\"module %s loaded\" % module_url)\n",
        "def embed(input):\n",
        "  return model(input)"
      ],
      "execution_count": 3,
      "outputs": [
        {
          "output_type": "stream",
          "text": [
            "module https://tfhub.dev/google/universal-sentence-encoder/4 loaded\n"
          ],
          "name": "stdout"
        }
      ]
    },
    {
      "cell_type": "code",
      "metadata": {
        "id": "pMPYI6XGLr_6",
        "colab_type": "code",
        "colab": {}
      },
      "source": [
        "\n",
        "MOBILENET_V2_FEATURE_EXTRACTOR_URI = \"https://tfhub.dev/google/tf2-preview/mobilenet_v2/feature_vector/4\"\n",
        "PIXEL =224\n",
        "INPUT_IMAGE_SIZE = (PIXEL, PIXEL)\n",
        "OUTPUT_FEATURE_VECTOR_SIZE = 1280\n",
        "feature_extractor = hub.KerasLayer(MOBILENET_V2_FEATURE_EXTRACTOR_URI,\n",
        "                                   input_shape=INPUT_IMAGE_SIZE + (3,), \n",
        "                                   output_shape=[OUTPUT_FEATURE_VECTOR_SIZE],\n",
        "                                   trainable=False)\n",
        "MobileNetModel = tf.keras.Sequential([\n",
        "        feature_extractor\n",
        "])"
      ],
      "execution_count": 0,
      "outputs": []
    },
    {
      "cell_type": "code",
      "metadata": {
        "id": "XD8H7m9oLyUI",
        "colab_type": "code",
        "colab": {}
      },
      "source": [
        "def resize_image(image):\n",
        "    #print(\"resizing:\") \n",
        "    resized_img = image.resize(INPUT_IMAGE_SIZE)\n",
        "    #resized_img.show()\n",
        "    resized_img_arr = np.array(resized_img)/255.0\n",
        "    return resized_img_arr\n",
        "\n",
        "def getImageEmbedding(regionImage, model):\n",
        "    resizedImage = resize_image(regionImage)\n",
        "    #plt.imshow(resizedImage)\n",
        "    #plt.show()\n",
        "    embedding = model.predict(resizedImage[np.newaxis, ...])\n",
        "    #print(embedding)\n",
        "    return embedding"
      ],
      "execution_count": 0,
      "outputs": []
    },
    {
      "cell_type": "code",
      "metadata": {
        "id": "FEr9kmd04KWw",
        "colab_type": "code",
        "colab": {}
      },
      "source": [
        "def readImageFromDrive(imgId, regId):\n",
        "    drivepath = '/content/drive/My Drive/'\n",
        "    imagepath = drivepath +  'Region_Image/Image_' + str(imgId)+'_Region_' + str(regId)+'.jpg'\n",
        "    imageName =  str(imgId) + '_' + str(regId)\n",
        "    imageGet = tf.keras.utils.get_file(imageName, pathlib.Path(imagepath).as_uri())\n",
        "    imageRead = Image.open(imageGet)\n",
        "    return imageRead"
      ],
      "execution_count": 0,
      "outputs": []
    },
    {
      "cell_type": "code",
      "metadata": {
        "id": "PS74PzRiMnR_",
        "colab_type": "code",
        "colab": {
          "base_uri": "https://localhost:8080/",
          "height": 33
        },
        "outputId": "54d8ae32-82a9-480a-d68b-0da2f0d3e562"
      },
      "source": [
        "imgReg = readImageFromDrive(125,2)\n",
        "imgEmbedding = getImageEmbedding(imgReg, MobileNetModel )\n",
        "print(imgEmbedding)"
      ],
      "execution_count": 7,
      "outputs": [
        {
          "output_type": "stream",
          "text": [
            "[[0.9606538  1.7073144  1.3611007  ... 0.5518554  0.07739219 0.47317785]]\n"
          ],
          "name": "stdout"
        }
      ]
    },
    {
      "cell_type": "code",
      "metadata": {
        "id": "xqQZCuhhZQ7C",
        "colab_type": "code",
        "colab": {}
      },
      "source": [
        "def readTextFromDrive(imgId, regID):\n",
        "\n",
        "    drivepath = '/content/drive/My Drive/'\n",
        "    IembeddingPath = drivepath+'/Region_Descp'\n",
        "    descpath =  drivepath + 'Region_Descp/Image_' + str(imgId)+'_Region_Descp' + str(regID)+'.txt'\n",
        "    f = open(descpath, 'r')\n",
        "    content = f.read()\n",
        "    return content"
      ],
      "execution_count": 0,
      "outputs": []
    },
    {
      "cell_type": "code",
      "metadata": {
        "id": "p8AiEmzuIkyw",
        "colab_type": "code",
        "colab": {}
      },
      "source": [
        "def readEmbeddingFromDrive(imgId, regID):\n",
        "\n",
        "    drivepath = '/content/drive/My Drive/'\n",
        "    IembeddingPath = drivepath+'/Region_Descp'\n",
        "    descpath =  drivepath + 'Image_Embedding/Image_' + str(imgId)+'_Embedding_'+ str(regID)+'.txt'\n",
        "    f = open(descpath, 'r')\n",
        "    content = f.read()\n",
        "    return content\n"
      ],
      "execution_count": 0,
      "outputs": []
    },
    {
      "cell_type": "code",
      "metadata": {
        "id": "hFCXa140q0F5",
        "colab_type": "code",
        "colab": {}
      },
      "source": [
        "#!unzip <filename>"
      ],
      "execution_count": 0,
      "outputs": []
    },
    {
      "cell_type": "code",
      "metadata": {
        "id": "EHCInZdeuJrD",
        "colab_type": "code",
        "colab": {}
      },
      "source": [
        "def getFileList(path):\n",
        "    import glob,os\n",
        "    iwd = os.getcwd()\n",
        "    os.chdir(path)\n",
        "    filelist= []\n",
        "    for file in glob.glob(\"*.txt\"):\n",
        "        filelist.append(file)\n",
        "    os.chdir(iwd)\n",
        "    return filelist"
      ],
      "execution_count": 0,
      "outputs": []
    },
    {
      "cell_type": "code",
      "metadata": {
        "id": "EUH9jttvx-Rp",
        "colab_type": "code",
        "colab": {}
      },
      "source": [
        "import re\n",
        "def getImageIDregID(str1):\n",
        "    idList = list(map(int, re.findall('\\d+',str1)))\n",
        "    return idList"
      ],
      "execution_count": 0,
      "outputs": []
    },
    {
      "cell_type": "code",
      "metadata": {
        "id": "VSvAQrBV1XQv",
        "colab_type": "code",
        "colab": {}
      },
      "source": [
        "def getAllPairs(loadpath):\n",
        "  ListOfFiles = getFileList(loadpath)\n",
        "  ListOfID = []\n",
        "  for filename in ListOfFiles:\n",
        "    #print(filename)\n",
        "    ID,REGID = getImageIDregID(filename)\n",
        "    ListOfID.append([ID,REGID])\n",
        "  return ListOfID"
      ],
      "execution_count": 0,
      "outputs": []
    },
    {
      "cell_type": "code",
      "metadata": {
        "id": "qW_n1FvF1Qpf",
        "colab_type": "code",
        "colab": {
          "base_uri": "https://localhost:8080/",
          "height": 33
        },
        "outputId": "f005874b-c308-435f-d6ad-6877ac027168"
      },
      "source": [
        "LOADING_PATH = \"/content/Region_Descp\"\n",
        "ListOfIDs = getAllPairs(LOADING_PATH)\n",
        "\n",
        "print(len(ListOfIDs))"
      ],
      "execution_count": 14,
      "outputs": [
        {
          "output_type": "stream",
          "text": [
            "56775\n"
          ],
          "name": "stdout"
        }
      ]
    },
    {
      "cell_type": "code",
      "metadata": {
        "id": "LTZOuYIq2O4d",
        "colab_type": "code",
        "colab": {}
      },
      "source": [
        "def LoadBatch(baseIndex, batchSize, sourceList):\n",
        "    maxIndex = baseIndex + batchSize\n",
        "    xList = []\n",
        "    yList = []\n",
        "    while (baseIndex < maxIndex):\n",
        "        if (baseIndex%10==0):\n",
        "          print(\"reading index : \" + str(baseIndex))\n",
        "        description = readTextFromDrive(sourceList[baseIndex][0], sourceList[baseIndex][1])\n",
        "       # print(\"descp:\" + description)\n",
        "        x = embed([description])\n",
        "        x1 = np.reshape(x, 512)\n",
        "\n",
        "        #print(\"Text Embedding\" + str(x1))\n",
        "        #print (x1.shape)\n",
        "        \n",
        "\n",
        "        imgReg = readImageFromDrive(sourceList[baseIndex][0], sourceList[baseIndex][1])\n",
        "       # display(imgReg)\n",
        "        y = getImageEmbedding(imgReg, MobileNetModel )\n",
        "        y1 = np.reshape(y, 1280)\n",
        "        #print(\"Image Embedding\" + str(y1))\n",
        "        #print (\"Yshape\" + str(y1.shape))\n",
        "        xList.append(x1)\n",
        "        yList.append(y1)\n",
        "        baseIndex = baseIndex + 1\n",
        "\n",
        "    return xList,yList"
      ],
      "execution_count": 0,
      "outputs": []
    },
    {
      "cell_type": "code",
      "metadata": {
        "id": "7GvPgz6g3BOt",
        "colab_type": "code",
        "colab": {
          "base_uri": "https://localhost:8080/",
          "height": 1000
        },
        "outputId": "26bfbae3-7fd2-4ec6-8866-8e805837f118"
      },
      "source": [
        "import numpy as np\n",
        "np.set_printoptions(threshold=10)\n",
        "X,Y = LoadBatch(0, 1000, ListOfIDs)\n",
        "X = np.asarray(X)\n",
        "Y = np.asarray(Y)\n",
        "print(X.shape)\n",
        "print(Y.shape)"
      ],
      "execution_count": 42,
      "outputs": [
        {
          "output_type": "stream",
          "text": [
            "reading index : 0\n",
            "reading index : 10\n",
            "reading index : 20\n",
            "reading index : 30\n",
            "reading index : 40\n",
            "reading index : 50\n",
            "reading index : 60\n",
            "reading index : 70\n",
            "reading index : 80\n",
            "reading index : 90\n",
            "reading index : 100\n",
            "reading index : 110\n",
            "reading index : 120\n",
            "reading index : 130\n",
            "reading index : 140\n",
            "reading index : 150\n",
            "reading index : 160\n",
            "reading index : 170\n",
            "reading index : 180\n",
            "reading index : 190\n",
            "reading index : 200\n",
            "reading index : 210\n",
            "reading index : 220\n",
            "reading index : 230\n",
            "reading index : 240\n",
            "reading index : 250\n",
            "reading index : 260\n",
            "reading index : 270\n",
            "reading index : 280\n",
            "reading index : 290\n",
            "reading index : 300\n",
            "reading index : 310\n",
            "reading index : 320\n",
            "reading index : 330\n",
            "reading index : 340\n",
            "reading index : 350\n",
            "reading index : 360\n",
            "reading index : 370\n",
            "reading index : 380\n",
            "reading index : 390\n",
            "reading index : 400\n",
            "reading index : 410\n",
            "reading index : 420\n",
            "reading index : 430\n",
            "reading index : 440\n",
            "reading index : 450\n",
            "reading index : 460\n",
            "reading index : 470\n",
            "reading index : 480\n",
            "reading index : 490\n",
            "reading index : 500\n",
            "reading index : 510\n",
            "reading index : 520\n",
            "reading index : 530\n",
            "reading index : 540\n",
            "reading index : 550\n",
            "reading index : 560\n",
            "reading index : 570\n",
            "reading index : 580\n",
            "reading index : 590\n",
            "reading index : 600\n",
            "reading index : 610\n",
            "reading index : 620\n",
            "reading index : 630\n",
            "reading index : 640\n",
            "reading index : 650\n",
            "reading index : 660\n",
            "reading index : 670\n",
            "reading index : 680\n",
            "reading index : 690\n",
            "reading index : 700\n",
            "reading index : 710\n",
            "reading index : 720\n",
            "reading index : 730\n",
            "reading index : 740\n",
            "reading index : 750\n",
            "reading index : 760\n",
            "reading index : 770\n",
            "reading index : 780\n",
            "reading index : 790\n",
            "reading index : 800\n",
            "reading index : 810\n",
            "reading index : 820\n",
            "reading index : 830\n",
            "reading index : 840\n",
            "reading index : 850\n",
            "reading index : 860\n",
            "reading index : 870\n",
            "reading index : 880\n",
            "reading index : 890\n",
            "reading index : 900\n",
            "reading index : 910\n",
            "reading index : 920\n",
            "reading index : 930\n",
            "reading index : 940\n",
            "reading index : 950\n",
            "reading index : 960\n",
            "reading index : 970\n",
            "reading index : 980\n",
            "reading index : 990\n",
            "(1000, 512)\n",
            "(1000, 1280)\n"
          ],
          "name": "stdout"
        }
      ]
    },
    {
      "cell_type": "code",
      "metadata": {
        "id": "nvat1WLTtHWc",
        "colab_type": "code",
        "colab": {
          "base_uri": "https://localhost:8080/",
          "height": 234
        },
        "outputId": "d4d074fb-3d48-4352-ad1f-90639311513f"
      },
      "source": [
        "print(X)"
      ],
      "execution_count": 43,
      "outputs": [
        {
          "output_type": "stream",
          "text": [
            "[[ 0.03020312  0.0755768  -0.03746407 ...  0.03053355  0.01503169\n",
            "  -0.00533399]\n",
            " [-0.0077608   0.05888794  0.00815242 ... -0.00472368 -0.07115692\n",
            "   0.03192245]\n",
            " [ 0.00399121  0.03260137  0.00750925 ... -0.05466543 -0.0229566\n",
            "  -0.0146247 ]\n",
            " ...\n",
            " [ 0.02849898  0.04417047 -0.01633866 ...  0.02346408 -0.01772887\n",
            "  -0.02321855]\n",
            " [-0.04691355  0.01009963  0.00645433 ... -0.01594912  0.00914258\n",
            "   0.01090833]\n",
            " [ 0.00050116  0.0443732  -0.05073781 ...  0.03648134  0.05847602\n",
            "  -0.00366473]]\n"
          ],
          "name": "stdout"
        }
      ]
    },
    {
      "cell_type": "code",
      "metadata": {
        "id": "ur2msHHcDcOX",
        "colab_type": "code",
        "colab": {}
      },
      "source": [
        "from __future__ import absolute_import, division, print_function, unicode_literals\n",
        "\n",
        "import tensorflow as tf\n",
        "\n",
        "tf.keras.backend.clear_session() "
      ],
      "execution_count": 0,
      "outputs": []
    },
    {
      "cell_type": "code",
      "metadata": {
        "id": "0osg2iNCKV7x",
        "colab_type": "code",
        "colab": {
          "base_uri": "https://localhost:8080/",
          "height": 284
        },
        "outputId": "f69dbdf0-f291-4695-c556-1111ad36f484"
      },
      "source": [
        "from tensorflow import keras\n",
        "from tensorflow.keras import layers\n",
        "\n",
        "inputs = keras.Input(shape=(512,), name='TextEmbedding')\n",
        "layer2 = layers.Dense(1024,activation='relu', name='dense_1')(inputs)\n",
        "layer3 = layers.Dense(1024, activation='relu', name='dense_2')(layer2)\n",
        "outputVector = layers.Dense(1280, activation= 'tanh', name='Predictions')(layer3)\n",
        "\n",
        "model = keras.Model(inputs=inputs, outputs=outputVector)\n",
        "model.summary()"
      ],
      "execution_count": 45,
      "outputs": [
        {
          "output_type": "stream",
          "text": [
            "Model: \"model\"\n",
            "_________________________________________________________________\n",
            "Layer (type)                 Output Shape              Param #   \n",
            "=================================================================\n",
            "TextEmbedding (InputLayer)   [(None, 512)]             0         \n",
            "_________________________________________________________________\n",
            "dense_1 (Dense)              (None, 1024)              525312    \n",
            "_________________________________________________________________\n",
            "dense_2 (Dense)              (None, 1024)              1049600   \n",
            "_________________________________________________________________\n",
            "Predictions (Dense)          (None, 1280)              1312000   \n",
            "=================================================================\n",
            "Total params: 2,886,912\n",
            "Trainable params: 2,886,912\n",
            "Non-trainable params: 0\n",
            "_________________________________________________________________\n"
          ],
          "name": "stdout"
        }
      ]
    },
    {
      "cell_type": "code",
      "metadata": {
        "id": "xiszS-06bpcv",
        "colab_type": "code",
        "colab": {
          "base_uri": "https://localhost:8080/",
          "height": 67
        },
        "outputId": "902de64e-4674-49d8-bfd4-95500b4089f6"
      },
      "source": [
        "validationSetSize =int(len(X)/10)\n",
        "print(\"ValidationSet Size : \" + str(validationSetSize))\n",
        "x_val = X[-validationSetSize:]\n",
        "y_val = Y[-validationSetSize:]\n",
        "x_train = X[:-validationSetSize]\n",
        "y_train = Y[:-validationSetSize]\n",
        "\n",
        "\n",
        "#for y1 in y1_train:\n",
        "   # y_train.append(tf.convert_to_tensor(y1))\n",
        "\n",
        "\n",
        "\n",
        "\n",
        "#x_train = np.asarray(x_train,dtype=\"float32\", order=None)\n",
        "#y_train = np.asarray (y_train,dtype=\"float32\", order=None)\n",
        "#x_train = tf.convert_to_tensor(x_train)\n",
        "print(x_train.shape)\n",
        "print(y_train.shape)\n",
        "#print(y_train[0])\n",
        "\n",
        "\n",
        "#model.summary()"
      ],
      "execution_count": 56,
      "outputs": [
        {
          "output_type": "stream",
          "text": [
            "ValidationSet Size : 100\n",
            "(900, 512)\n",
            "(900, 1280)\n"
          ],
          "name": "stdout"
        }
      ]
    },
    {
      "cell_type": "code",
      "metadata": {
        "id": "zQM-s_CacUm-",
        "colab_type": "code",
        "colab": {}
      },
      "source": [
        "model.compile(optimizer=keras.optimizers.RMSprop(),  # Optimizer\n",
        "              # Loss function to minimize\n",
        "              loss=keras.losses.CosineSimilarity(),\n",
        "              # List of metrics to monitor\n",
        "              metrics=[keras.metrics.CosineSimilarity()])\n"
      ],
      "execution_count": 0,
      "outputs": []
    },
    {
      "cell_type": "code",
      "metadata": {
        "id": "3z4OwlqFenV5",
        "colab_type": "code",
        "colab": {
          "base_uri": "https://localhost:8080/",
          "height": 1000
        },
        "outputId": "bd2df5c1-a647-448d-a396-cade4f944727"
      },
      "source": [
        "print('# Fit model on training data')\n",
        "history = model.fit(x_train, y_train,\n",
        "                    batch_size=64,\n",
        "                    epochs=100,\n",
        "                    # We pass some validation for\n",
        "                    # monitoring validation loss and metrics\n",
        "                    # at the end of each epoch\n",
        "                   )"
      ],
      "execution_count": 54,
      "outputs": [
        {
          "output_type": "stream",
          "text": [
            "# Fit model on training data\n",
            "Train on 900 samples\n",
            "Epoch 1/100\n",
            "900/900 [==============================] - 1s 1ms/sample - loss: -0.5640 - cosine_similarity: 0.5640\n",
            "Epoch 2/100\n",
            "900/900 [==============================] - 1s 783us/sample - loss: -0.6360 - cosine_similarity: 0.6360\n",
            "Epoch 3/100\n",
            "900/900 [==============================] - 1s 845us/sample - loss: -0.6542 - cosine_similarity: 0.6542\n",
            "Epoch 4/100\n",
            "900/900 [==============================] - 1s 799us/sample - loss: -0.6731 - cosine_similarity: 0.6731\n",
            "Epoch 5/100\n",
            "900/900 [==============================] - 1s 851us/sample - loss: -0.6929 - cosine_similarity: 0.6929\n",
            "Epoch 6/100\n",
            "900/900 [==============================] - 1s 885us/sample - loss: -0.7156 - cosine_similarity: 0.7156\n",
            "Epoch 7/100\n",
            "900/900 [==============================] - 1s 885us/sample - loss: -0.7385 - cosine_similarity: 0.7385\n",
            "Epoch 8/100\n",
            "900/900 [==============================] - 1s 844us/sample - loss: -0.7533 - cosine_similarity: 0.7533\n",
            "Epoch 9/100\n",
            "900/900 [==============================] - 1s 865us/sample - loss: -0.7809 - cosine_similarity: 0.7809\n",
            "Epoch 10/100\n",
            "900/900 [==============================] - 1s 877us/sample - loss: -0.7952 - cosine_similarity: 0.7952\n",
            "Epoch 11/100\n",
            "900/900 [==============================] - 1s 847us/sample - loss: -0.8130 - cosine_similarity: 0.8130\n",
            "Epoch 12/100\n",
            "900/900 [==============================] - 1s 845us/sample - loss: -0.8276 - cosine_similarity: 0.8276\n",
            "Epoch 13/100\n",
            "900/900 [==============================] - 1s 894us/sample - loss: -0.8395 - cosine_similarity: 0.8395\n",
            "Epoch 14/100\n",
            "900/900 [==============================] - 1s 863us/sample - loss: -0.8507 - cosine_similarity: 0.8507\n",
            "Epoch 15/100\n",
            "900/900 [==============================] - 1s 838us/sample - loss: -0.8615 - cosine_similarity: 0.8615\n",
            "Epoch 16/100\n",
            "900/900 [==============================] - 1s 872us/sample - loss: -0.8688 - cosine_similarity: 0.8688\n",
            "Epoch 17/100\n",
            "900/900 [==============================] - 1s 876us/sample - loss: -0.8773 - cosine_similarity: 0.8773\n",
            "Epoch 18/100\n",
            "900/900 [==============================] - 1s 850us/sample - loss: -0.8844 - cosine_similarity: 0.8844\n",
            "Epoch 19/100\n",
            "900/900 [==============================] - 1s 856us/sample - loss: -0.8913 - cosine_similarity: 0.8913\n",
            "Epoch 20/100\n",
            "900/900 [==============================] - 1s 862us/sample - loss: -0.8978 - cosine_similarity: 0.8978\n",
            "Epoch 21/100\n",
            "900/900 [==============================] - 1s 873us/sample - loss: -0.9022 - cosine_similarity: 0.9022\n",
            "Epoch 22/100\n",
            "900/900 [==============================] - 1s 800us/sample - loss: -0.9070 - cosine_similarity: 0.9070\n",
            "Epoch 23/100\n",
            "900/900 [==============================] - 1s 820us/sample - loss: -0.9112 - cosine_similarity: 0.9112\n",
            "Epoch 24/100\n",
            "900/900 [==============================] - 1s 829us/sample - loss: -0.9159 - cosine_similarity: 0.9159\n",
            "Epoch 25/100\n",
            "900/900 [==============================] - 1s 854us/sample - loss: -0.9199 - cosine_similarity: 0.9199\n",
            "Epoch 26/100\n",
            "900/900 [==============================] - 1s 854us/sample - loss: -0.9230 - cosine_similarity: 0.9230\n",
            "Epoch 27/100\n",
            "900/900 [==============================] - 1s 863us/sample - loss: -0.9265 - cosine_similarity: 0.9265\n",
            "Epoch 28/100\n",
            "900/900 [==============================] - 1s 844us/sample - loss: -0.9267 - cosine_similarity: 0.9267\n",
            "Epoch 29/100\n",
            "900/900 [==============================] - 1s 825us/sample - loss: -0.9306 - cosine_similarity: 0.9306\n",
            "Epoch 30/100\n",
            "900/900 [==============================] - 1s 898us/sample - loss: -0.9341 - cosine_similarity: 0.9341\n",
            "Epoch 31/100\n",
            "900/900 [==============================] - 1s 840us/sample - loss: -0.9347 - cosine_similarity: 0.9347\n",
            "Epoch 32/100\n",
            "900/900 [==============================] - 1s 853us/sample - loss: -0.9380 - cosine_similarity: 0.9380\n",
            "Epoch 33/100\n",
            "900/900 [==============================] - 1s 869us/sample - loss: -0.9385 - cosine_similarity: 0.9385\n",
            "Epoch 34/100\n",
            "900/900 [==============================] - 1s 881us/sample - loss: -0.9411 - cosine_similarity: 0.9411\n",
            "Epoch 35/100\n",
            "900/900 [==============================] - 1s 861us/sample - loss: -0.9415 - cosine_similarity: 0.9415\n",
            "Epoch 36/100\n",
            "900/900 [==============================] - 1s 848us/sample - loss: -0.9445 - cosine_similarity: 0.9445\n",
            "Epoch 37/100\n",
            "900/900 [==============================] - 1s 850us/sample - loss: -0.9468 - cosine_similarity: 0.9468\n",
            "Epoch 38/100\n",
            "900/900 [==============================] - 1s 858us/sample - loss: -0.9464 - cosine_similarity: 0.9464\n",
            "Epoch 39/100\n",
            "900/900 [==============================] - 1s 796us/sample - loss: -0.9489 - cosine_similarity: 0.9489\n",
            "Epoch 40/100\n",
            "900/900 [==============================] - 1s 801us/sample - loss: -0.9495 - cosine_similarity: 0.9495\n",
            "Epoch 41/100\n",
            "900/900 [==============================] - 1s 812us/sample - loss: -0.9508 - cosine_similarity: 0.9508\n",
            "Epoch 42/100\n",
            "900/900 [==============================] - 1s 804us/sample - loss: -0.9527 - cosine_similarity: 0.9527\n",
            "Epoch 43/100\n",
            "900/900 [==============================] - 1s 861us/sample - loss: -0.9540 - cosine_similarity: 0.9540\n",
            "Epoch 44/100\n",
            "900/900 [==============================] - 1s 871us/sample - loss: -0.9540 - cosine_similarity: 0.9540\n",
            "Epoch 45/100\n",
            "900/900 [==============================] - 1s 863us/sample - loss: -0.9554 - cosine_similarity: 0.9554\n",
            "Epoch 46/100\n",
            "900/900 [==============================] - 1s 860us/sample - loss: -0.9566 - cosine_similarity: 0.9566\n",
            "Epoch 47/100\n",
            "900/900 [==============================] - 1s 813us/sample - loss: -0.9572 - cosine_similarity: 0.9572\n",
            "Epoch 48/100\n",
            "900/900 [==============================] - 1s 860us/sample - loss: -0.9576 - cosine_similarity: 0.9576\n",
            "Epoch 49/100\n",
            "900/900 [==============================] - 1s 857us/sample - loss: -0.9590 - cosine_similarity: 0.9590\n",
            "Epoch 50/100\n",
            "900/900 [==============================] - 1s 855us/sample - loss: -0.9593 - cosine_similarity: 0.9593\n",
            "Epoch 51/100\n",
            "900/900 [==============================] - 1s 881us/sample - loss: -0.9601 - cosine_similarity: 0.9601\n",
            "Epoch 52/100\n",
            "900/900 [==============================] - 1s 837us/sample - loss: -0.9603 - cosine_similarity: 0.9603\n",
            "Epoch 53/100\n",
            "900/900 [==============================] - 1s 855us/sample - loss: -0.9606 - cosine_similarity: 0.9606\n",
            "Epoch 54/100\n",
            "900/900 [==============================] - 1s 873us/sample - loss: -0.9615 - cosine_similarity: 0.9615\n",
            "Epoch 55/100\n",
            "900/900 [==============================] - 1s 852us/sample - loss: -0.9625 - cosine_similarity: 0.9625\n",
            "Epoch 56/100\n",
            "900/900 [==============================] - 1s 846us/sample - loss: -0.9633 - cosine_similarity: 0.9633\n",
            "Epoch 57/100\n",
            "900/900 [==============================] - 1s 866us/sample - loss: -0.9628 - cosine_similarity: 0.9628\n",
            "Epoch 58/100\n",
            "900/900 [==============================] - 1s 849us/sample - loss: -0.9639 - cosine_similarity: 0.9639\n",
            "Epoch 59/100\n",
            "900/900 [==============================] - 1s 874us/sample - loss: -0.9647 - cosine_similarity: 0.9647\n",
            "Epoch 60/100\n",
            "900/900 [==============================] - 1s 869us/sample - loss: -0.9652 - cosine_similarity: 0.9652\n",
            "Epoch 61/100\n",
            "900/900 [==============================] - 1s 862us/sample - loss: -0.9656 - cosine_similarity: 0.9656\n",
            "Epoch 62/100\n",
            "900/900 [==============================] - 1s 835us/sample - loss: -0.9663 - cosine_similarity: 0.9663\n",
            "Epoch 63/100\n",
            "900/900 [==============================] - 1s 810us/sample - loss: -0.9661 - cosine_similarity: 0.9661\n",
            "Epoch 64/100\n",
            "900/900 [==============================] - 1s 868us/sample - loss: -0.9666 - cosine_similarity: 0.9666\n",
            "Epoch 65/100\n",
            "900/900 [==============================] - 1s 860us/sample - loss: -0.9670 - cosine_similarity: 0.9670\n",
            "Epoch 66/100\n",
            "900/900 [==============================] - 1s 860us/sample - loss: -0.9674 - cosine_similarity: 0.9674\n",
            "Epoch 67/100\n",
            "900/900 [==============================] - 1s 854us/sample - loss: -0.9673 - cosine_similarity: 0.9673\n",
            "Epoch 68/100\n",
            "900/900 [==============================] - 1s 843us/sample - loss: -0.9684 - cosine_similarity: 0.9684\n",
            "Epoch 69/100\n",
            "900/900 [==============================] - 1s 831us/sample - loss: -0.9677 - cosine_similarity: 0.9677\n",
            "Epoch 70/100\n",
            "900/900 [==============================] - 1s 813us/sample - loss: -0.9682 - cosine_similarity: 0.9682\n",
            "Epoch 71/100\n",
            "900/900 [==============================] - 1s 899us/sample - loss: -0.9689 - cosine_similarity: 0.9689\n",
            "Epoch 72/100\n",
            "900/900 [==============================] - 1s 864us/sample - loss: -0.9684 - cosine_similarity: 0.9684\n",
            "Epoch 73/100\n",
            "900/900 [==============================] - 1s 863us/sample - loss: -0.9694 - cosine_similarity: 0.9694\n",
            "Epoch 74/100\n",
            "900/900 [==============================] - 1s 851us/sample - loss: -0.9697 - cosine_similarity: 0.9697\n",
            "Epoch 75/100\n",
            "900/900 [==============================] - 1s 822us/sample - loss: -0.9695 - cosine_similarity: 0.9695\n",
            "Epoch 76/100\n",
            "900/900 [==============================] - 1s 833us/sample - loss: -0.9697 - cosine_similarity: 0.9697\n",
            "Epoch 77/100\n",
            "900/900 [==============================] - 1s 807us/sample - loss: -0.9707 - cosine_similarity: 0.9707\n",
            "Epoch 78/100\n",
            "900/900 [==============================] - 1s 866us/sample - loss: -0.9707 - cosine_similarity: 0.9707\n",
            "Epoch 79/100\n",
            "900/900 [==============================] - 1s 862us/sample - loss: -0.9706 - cosine_similarity: 0.9706\n",
            "Epoch 80/100\n",
            "900/900 [==============================] - 1s 798us/sample - loss: -0.9711 - cosine_similarity: 0.9711\n",
            "Epoch 81/100\n",
            "900/900 [==============================] - 1s 809us/sample - loss: -0.9717 - cosine_similarity: 0.9717\n",
            "Epoch 82/100\n",
            "900/900 [==============================] - 1s 827us/sample - loss: -0.9714 - cosine_similarity: 0.9714\n",
            "Epoch 83/100\n",
            "900/900 [==============================] - 1s 820us/sample - loss: -0.9719 - cosine_similarity: 0.9719\n",
            "Epoch 84/100\n",
            "900/900 [==============================] - 1s 853us/sample - loss: -0.9715 - cosine_similarity: 0.9715\n",
            "Epoch 85/100\n",
            "900/900 [==============================] - 1s 873us/sample - loss: -0.9716 - cosine_similarity: 0.9716\n",
            "Epoch 86/100\n",
            "900/900 [==============================] - 1s 830us/sample - loss: -0.9727 - cosine_similarity: 0.9727\n",
            "Epoch 87/100\n",
            "900/900 [==============================] - 1s 840us/sample - loss: -0.9725 - cosine_similarity: 0.9725\n",
            "Epoch 88/100\n",
            "900/900 [==============================] - 1s 837us/sample - loss: -0.9724 - cosine_similarity: 0.9724\n",
            "Epoch 89/100\n",
            "900/900 [==============================] - 1s 854us/sample - loss: -0.9725 - cosine_similarity: 0.9725\n",
            "Epoch 90/100\n",
            "900/900 [==============================] - 1s 837us/sample - loss: -0.9732 - cosine_similarity: 0.9732\n",
            "Epoch 91/100\n",
            "900/900 [==============================] - 1s 850us/sample - loss: -0.9732 - cosine_similarity: 0.9732\n",
            "Epoch 92/100\n",
            "900/900 [==============================] - 1s 894us/sample - loss: -0.9731 - cosine_similarity: 0.9731\n",
            "Epoch 93/100\n",
            "900/900 [==============================] - 1s 870us/sample - loss: -0.9733 - cosine_similarity: 0.9733\n",
            "Epoch 94/100\n",
            "900/900 [==============================] - 1s 883us/sample - loss: -0.9736 - cosine_similarity: 0.9736\n",
            "Epoch 95/100\n",
            "900/900 [==============================] - 1s 887us/sample - loss: -0.9739 - cosine_similarity: 0.9739\n",
            "Epoch 96/100\n",
            "900/900 [==============================] - 1s 881us/sample - loss: -0.9738 - cosine_similarity: 0.9738\n",
            "Epoch 97/100\n",
            "900/900 [==============================] - 1s 889us/sample - loss: -0.9742 - cosine_similarity: 0.9742\n",
            "Epoch 98/100\n",
            "900/900 [==============================] - 1s 898us/sample - loss: -0.9739 - cosine_similarity: 0.9739\n",
            "Epoch 99/100\n",
            "900/900 [==============================] - 1s 896us/sample - loss: -0.9743 - cosine_similarity: 0.9743\n",
            "Epoch 100/100\n",
            "900/900 [==============================] - 1s 858us/sample - loss: -0.9744 - cosine_similarity: 0.9744\n"
          ],
          "name": "stdout"
        }
      ]
    },
    {
      "cell_type": "code",
      "metadata": {
        "id": "kpzZUAAUezJM",
        "colab_type": "code",
        "colab": {
          "base_uri": "https://localhost:8080/",
          "height": 84
        },
        "outputId": "657bdc51-3521-4028-d98a-b7e964195b88"
      },
      "source": [
        "y = model.predict(x_val)\n",
        "print (y.shape)\n",
        "print(y[0])\n",
        "print(y_val[0])\n"
      ],
      "execution_count": 60,
      "outputs": [
        {
          "output_type": "stream",
          "text": [
            "(100, 1280)\n",
            "[ 0.00422466  0.04605269  0.01528466 ...  0.02639722 -0.00235608\n",
            "  0.30709773]\n",
            "[0.         0.5715288  0.         ... 0.01793216 0.         0.9757645 ]\n"
          ],
          "name": "stdout"
        }
      ]
    },
    {
      "cell_type": "code",
      "metadata": {
        "id": "sbeJ-5p9ADyY",
        "colab_type": "code",
        "colab": {
          "base_uri": "https://localhost:8080/",
          "height": 438
        },
        "outputId": "a3d768af-e77a-4a34-f6f7-2ba0f38f9e8a"
      },
      "source": [
        "from keras.utils import plot_model\n",
        "from tensorflow.keras.utils import plot_model\n",
        "plot_model(model, to_file='model.png', show_shapes = True, show_layer_names=True,expand_nested= True)"
      ],
      "execution_count": 61,
      "outputs": [
        {
          "output_type": "stream",
          "text": [
            "Using TensorFlow backend.\n"
          ],
          "name": "stderr"
        },
        {
          "output_type": "execute_result",
          "data": {
            "image/png": "[encoded data removed]",
            "text/plain": [
              "<IPython.core.display.Image object>"
            ]
          },
          "metadata": {
            "tags": []
          },
          "execution_count": 61
        }
      ]
    },
    {
      "cell_type": "code",
      "metadata": {
        "id": "ECMbIYQwk8fu",
        "colab_type": "code",
        "colab": {}
      },
      "source": [
        ""
      ],
      "execution_count": 0,
      "outputs": []
    }
  ]
}