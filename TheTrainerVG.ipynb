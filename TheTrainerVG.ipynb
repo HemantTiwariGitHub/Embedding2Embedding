{
  "nbformat": 4,
  "nbformat_minor": 0,
  "metadata": {
    "colab": {
      "name": "TheTrainerVG.ipynb",
      "provenance": [],
      "collapsed_sections": [],
      "authorship_tag": "ABX9TyMdTGSqGzcqh/VothKypwMC",
      "include_colab_link": true
    },
    "kernelspec": {
      "name": "python3",
      "display_name": "Python 3"
    }
  },
  "cells": [
    {
      "cell_type": "markdown",
      "metadata": {
        "id": "view-in-github",
        "colab_type": "text"
      },
      "source": [
        "<a href=\"https://colab.research.google.com/github/HemantTiwariGitHub/Embedding2Embedding/blob/master/TheTrainerVG.ipynb\" target=\"_parent\"><img src=\"https://colab.research.google.com/assets/colab-badge.svg\" alt=\"Open In Colab\"/></a>"
      ]
    },
    {
      "cell_type": "code",
      "metadata": {
        "id": "N4Zkr-u_YjmI",
        "colab_type": "code",
        "colab": {}
      },
      "source": [
        " try:\n",
        "    %tensorflow_version 2.x\n",
        "except:\n",
        "    pass"
      ],
      "execution_count": 0,
      "outputs": []
    },
    {
      "cell_type": "code",
      "metadata": {
        "id": "P_WNK6RqYsKM",
        "colab_type": "code",
        "outputId": "7efd1e4b-d1fc-4594-f2cb-c273a198c624",
        "colab": {
          "base_uri": "https://localhost:8080/",
          "height": 67
        }
      },
      "source": [
        "import tensorflow as tf\n",
        "import tensorflow_hub as hub\n",
        "from absl import logging\n",
        "import numpy as np\n",
        "\n",
        "print(\"\\u2022 Using TensorFlow Version:\", tf.__version__)\n",
        "print(\"\\u2022 Using TensorFlow Hub Version: \", hub.__version__)\n",
        "print('\\u2022 GPU Device Found.' if tf.test.is_gpu_available() else '\\u2022 GPU Device Not Found. Running on CPU')"
      ],
      "execution_count": 17,
      "outputs": [
        {
          "output_type": "stream",
          "text": [
            "• Using TensorFlow Version: 2.1.0-rc1\n",
            "• Using TensorFlow Hub Version:  0.7.0\n",
            "• GPU Device Not Found. Running on CPU\n"
          ],
          "name": "stdout"
        }
      ]
    },
    {
      "cell_type": "code",
      "metadata": {
        "id": "sHW8qlLGYvN0",
        "colab_type": "code",
        "outputId": "8c0bac7f-c2a8-4193-c1fa-1bed306b5202",
        "colab": {
          "base_uri": "https://localhost:8080/",
          "height": 33
        }
      },
      "source": [
        "module_url = \"https://tfhub.dev/google/universal-sentence-encoder/4\" #@param [\"https://tfhub.dev/google/universal-sentence-encoder/4\", \"https://tfhub.dev/google/universal-sentence-encoder-large/5\"]\n",
        "model = hub.load(module_url)\n",
        "print (\"module %s loaded\" % module_url)\n",
        "def embed(input):\n",
        "  return model(input)"
      ],
      "execution_count": 18,
      "outputs": [
        {
          "output_type": "stream",
          "text": [
            "module https://tfhub.dev/google/universal-sentence-encoder/4 loaded\n"
          ],
          "name": "stdout"
        }
      ]
    },
    {
      "cell_type": "code",
      "metadata": {
        "id": "FEr9kmd04KWw",
        "colab_type": "code",
        "colab": {}
      },
      "source": [
        "#print(embed([\"Hello\"]))"
      ],
      "execution_count": 0,
      "outputs": []
    },
    {
      "cell_type": "code",
      "metadata": {
        "id": "xqQZCuhhZQ7C",
        "colab_type": "code",
        "colab": {}
      },
      "source": [
        "def readTextFromDrive(imgId, regID):\n",
        "\n",
        "    drivepath = '/content/drive/My Drive/'\n",
        "    IembeddingPath = drivepath+'/Region_Descp'\n",
        "    descpath =  drivepath + 'Region_Descp/Image_' + str(imgId)+'_Region_Descp' + str(regID)+'.txt'\n",
        "    f = open(descpath, 'r')\n",
        "    content = f.read()\n",
        "    return content"
      ],
      "execution_count": 0,
      "outputs": []
    },
    {
      "cell_type": "code",
      "metadata": {
        "id": "p8AiEmzuIkyw",
        "colab_type": "code",
        "colab": {}
      },
      "source": [
        "def readEmbeddingFromDrive(imgId, regID):\n",
        "\n",
        "    drivepath = '/content/drive/My Drive/'\n",
        "    IembeddingPath = drivepath+'/Region_Descp'\n",
        "    descpath =  drivepath + 'Image_Embedding/Image_' + str(imgId)+'_Embedding_'+ str(regID)+'.txt'\n",
        "    f = open(descpath, 'r')\n",
        "    content = f.read()\n",
        "    return content\n"
      ],
      "execution_count": 0,
      "outputs": []
    },
    {
      "cell_type": "code",
      "metadata": {
        "id": "hFCXa140q0F5",
        "colab_type": "code",
        "colab": {}
      },
      "source": [
        "!unzip <filename>"
      ],
      "execution_count": 0,
      "outputs": []
    },
    {
      "cell_type": "code",
      "metadata": {
        "id": "EHCInZdeuJrD",
        "colab_type": "code",
        "colab": {}
      },
      "source": [
        "def getFileList(path):\n",
        "    import glob,os\n",
        "    iwd = os.getcwd()\n",
        "    os.chdir(path)\n",
        "    filelist= []\n",
        "    for file in glob.glob(\"*.txt\"):\n",
        "        filelist.append(file)\n",
        "    os.chdir(iwd)\n",
        "    return filelist"
      ],
      "execution_count": 0,
      "outputs": []
    },
    {
      "cell_type": "code",
      "metadata": {
        "id": "EUH9jttvx-Rp",
        "colab_type": "code",
        "colab": {}
      },
      "source": [
        "import re\n",
        "def getImageIDregID(str1):\n",
        "    idList = list(map(int, re.findall('\\d+',str1)))\n",
        "    return idList"
      ],
      "execution_count": 0,
      "outputs": []
    },
    {
      "cell_type": "code",
      "metadata": {
        "id": "VSvAQrBV1XQv",
        "colab_type": "code",
        "colab": {}
      },
      "source": [
        "def getAllPairs(loadpath):\n",
        "  ListOfFiles = getFileList(loadpath)\n",
        "  ListOfID = []\n",
        "  for filename in ListOfFiles:\n",
        "    #print(filename)\n",
        "    ID,REGID = getImageIDregID(filename)\n",
        "    ListOfID.append([ID,REGID])\n",
        "  return ListOfID"
      ],
      "execution_count": 0,
      "outputs": []
    },
    {
      "cell_type": "code",
      "metadata": {
        "id": "qW_n1FvF1Qpf",
        "colab_type": "code",
        "colab": {}
      },
      "source": [
        "LOADING_PATH = \"/content/Region_Descp\"\n",
        "ListOfIDs = getAllPairs(LOADING_PATH)\n",
        "\n",
        "#print(ListOfIDs)"
      ],
      "execution_count": 0,
      "outputs": []
    },
    {
      "cell_type": "code",
      "metadata": {
        "id": "LTZOuYIq2O4d",
        "colab_type": "code",
        "colab": {}
      },
      "source": [
        "def LoadBatch(baseIndex, batchSize, sourceList):\n",
        "    maxIndex = baseIndex + batch\n",
        "    xList = []\n",
        "    yList = []\n",
        "    while (baseIndex < maxIndex):\n",
        "        description = readTextFromDrive(sourceList[baseIndex][0], sourceList[baseIndex][1])\n",
        "        x = embed([description])\n",
        "        y = readEmbeddingFromDrive(sourceList[baseIndex][0], sourceList[baseIndex][1])\n",
        "\n",
        "        xList.append(x)\n",
        "        yList.append(y)\n",
        "        baseIndex = baseIndex + 1\n",
        "\n",
        "    return xList,yList"
      ],
      "execution_count": 0,
      "outputs": []
    },
    {
      "cell_type": "code",
      "metadata": {
        "id": "7GvPgz6g3BOt",
        "colab_type": "code",
        "colab": {}
      },
      "source": [
        "X,Y = LoadBatch(0, 5, ListOfIDs)"
      ],
      "execution_count": 0,
      "outputs": []
    },
    {
      "cell_type": "code",
      "metadata": {
        "id": "TMjOJPy3A1gK",
        "colab_type": "code",
        "colab": {}
      },
      "source": [
        ""
      ],
      "execution_count": 0,
      "outputs": []
    }
  ]
}